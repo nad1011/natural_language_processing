{
  "nbformat": 4,
  "nbformat_minor": 0,
  "metadata": {
    "colab": {
      "provenance": [],
      "gpuType": "T4",
      "authorship_tag": "ABX9TyPvIYYrhpKyIEm6kkw8wt0J",
      "include_colab_link": true
    },
    "kernelspec": {
      "name": "python3",
      "display_name": "Python 3"
    },
    "language_info": {
      "name": "python"
    },
    "accelerator": "GPU"
  },
  "cells": [
    {
      "cell_type": "markdown",
      "metadata": {
        "id": "view-in-github",
        "colab_type": "text"
      },
      "source": [
        "<a href=\"https://colab.research.google.com/github/nad1011/natural_language_processing/blob/main/NLP.ipynb\" target=\"_parent\"><img src=\"https://colab.research.google.com/assets/colab-badge.svg\" alt=\"Open In Colab\"/></a>"
      ]
    },
    {
      "cell_type": "code",
      "source": [
        "from google.colab import drive\n",
        "drive.mount('/content/gdrive')"
      ],
      "metadata": {
        "colab": {
          "base_uri": "https://localhost:8080/"
        },
        "id": "0G4Dl9hfTsAz",
        "outputId": "0bd65065-3b86-464e-9c9c-ad3e1615ea1c"
      },
      "execution_count": 3,
      "outputs": [
        {
          "output_type": "stream",
          "name": "stdout",
          "text": [
            "Mounted at /content/gdrive\n"
          ]
        }
      ]
    },
    {
      "cell_type": "code",
      "source": [
        "!unzip /content/gdrive/MyDrive/Colab\\ Notebooks/aclImdb.zip > /dev/null"
      ],
      "metadata": {
        "id": "4QZVZCFova_9"
      },
      "execution_count": 4,
      "outputs": []
    },
    {
      "cell_type": "code",
      "source": [
        "import os\n",
        "def load_data(path, tag):\n",
        "\treturn [(\"\".join(open(f\"{path}/{f}\", encoding=\"utf-8\").readlines()), tag) for f in os.listdir(path)]"
      ],
      "metadata": {
        "id": "tMGbTUSWvgtM"
      },
      "execution_count": 5,
      "outputs": []
    },
    {
      "cell_type": "code",
      "source": [
        "import nltk\n",
        "from nltk.corpus import stopwords\n",
        "\n",
        "nltk.download('stopwords')\n",
        "nltk.download('wordnet')\n",
        "\n",
        "stop_words = set(stopwords.words('english'))\n",
        "lemmatizer = nltk.stem.WordNetLemmatizer()"
      ],
      "metadata": {
        "colab": {
          "base_uri": "https://localhost:8080/"
        },
        "id": "XMLc4H4UwCCa",
        "outputId": "7e98c76d-90e4-4e5e-f2eb-f6ae0527cbac"
      },
      "execution_count": 6,
      "outputs": [
        {
          "output_type": "stream",
          "name": "stderr",
          "text": [
            "[nltk_data] Downloading package stopwords to /root/nltk_data...\n",
            "[nltk_data]   Unzipping corpora/stopwords.zip.\n",
            "[nltk_data] Downloading package wordnet to /root/nltk_data...\n"
          ]
        }
      ]
    },
    {
      "cell_type": "code",
      "source": [
        "import re\n",
        "\n",
        "def preprocessing(sentence):\n",
        "    sentence = re.sub(r'http\\S+', '', sentence)\n",
        "    sentence = re.sub(r'<.*?>', '', sentence)\n",
        "    sentence = re.sub(r'[^\\w\\s]', '', sentence)\n",
        "    sentence = sentence.lower()\n",
        "    return ' '.join([lemmatizer.lemmatize(word) for word in sentence.split() if word not in stop_words])"
      ],
      "metadata": {
        "id": "iN7KsjrqwEt6"
      },
      "execution_count": 7,
      "outputs": []
    },
    {
      "cell_type": "code",
      "source": [
        "import numpy as np\n",
        "def extract(data_list):\n",
        "\treturn np.array([preprocessing(data[0]) for data in data_list]), np.array([data[1] for data in data_list])\n",
        "\n",
        "train_data = load_data(\"aclImdb/train/pos\", 1) + load_data(\"aclImdb/train/neg\", 0)\n",
        "train_sentences, train_labels = extract(train_data)\n",
        "\n",
        "test_data = load_data(\"aclImdb/test/pos\", 1) + load_data(\"aclImdb/test/neg\", 0)\n",
        "test_sentences, test_labels = extract(test_data)"
      ],
      "metadata": {
        "id": "mn9gzN7xwtVj"
      },
      "execution_count": 8,
      "outputs": []
    },
    {
      "cell_type": "code",
      "source": [
        "vocab_size = 3000\n",
        "embedding_dim = 100\n",
        "max_length = 200\n",
        "\n",
        "from keras.preprocessing.text import Tokenizer\n",
        "from keras.preprocessing.sequence import pad_sequences\n",
        "\n",
        "tokenizer = Tokenizer(num_words=vocab_size, oov_token='<OOV>')\n",
        "tokenizer.fit_on_texts(train_sentences)\n",
        "word_index = tokenizer.word_index\n",
        "\n",
        "train_sequences = tokenizer.texts_to_sequences(train_sentences)\n",
        "train_padded = pad_sequences(train_sequences, padding='post', maxlen=max_length)\n",
        "\n",
        "test_sequences = tokenizer.texts_to_sequences(test_sentences)\n",
        "test_padded = pad_sequences(test_sequences, padding='post', maxlen=max_length)"
      ],
      "metadata": {
        "id": "zwuEoVUvw0qB"
      },
      "execution_count": 9,
      "outputs": []
    },
    {
      "cell_type": "code",
      "source": [
        "import keras\n",
        "from keras.callbacks import EarlyStopping\n",
        "\n",
        "model = keras.Sequential([\n",
        "\tkeras.layers.Embedding(vocab_size, embedding_dim, input_length=max_length),\n",
        "\tkeras.layers.Bidirectional(keras.layers.LSTM(64, return_sequences=True)),\n",
        "\tkeras.layers.Dropout(0.5),\n",
        "\tkeras.layers.Bidirectional(keras.layers.LSTM(32)),\n",
        "\tkeras.layers.Dense(24, activation='relu'),\n",
        "\tkeras.layers.Dropout(0.5),\n",
        "\tkeras.layers.Dense(1, activation='sigmoid')\n",
        "])\n",
        "\n",
        "model.compile(optimizer='adam', loss='binary_crossentropy', metrics=['accuracy'])\n",
        "\n",
        "early_stop = EarlyStopping(monitor='val_loss', patience=3)\n",
        "\n",
        "model.fit(train_padded, train_labels, epochs=5, validation_split=0.1, callbacks=[early_stop])"
      ],
      "metadata": {
        "colab": {
          "base_uri": "https://localhost:8080/"
        },
        "id": "E2xQq6gq1jhU",
        "outputId": "a7478d36-6845-4188-965e-cbc8d36f3142"
      },
      "execution_count": 10,
      "outputs": [
        {
          "output_type": "stream",
          "name": "stdout",
          "text": [
            "Epoch 1/5\n",
            "704/704 [==============================] - 81s 96ms/step - loss: 0.4527 - accuracy: 0.7957 - val_loss: 0.5402 - val_accuracy: 0.7852\n",
            "Epoch 2/5\n",
            "704/704 [==============================] - 28s 40ms/step - loss: 0.3435 - accuracy: 0.8680 - val_loss: 0.4248 - val_accuracy: 0.8220\n",
            "Epoch 3/5\n",
            "704/704 [==============================] - 26s 36ms/step - loss: 0.2930 - accuracy: 0.8919 - val_loss: 0.2396 - val_accuracy: 0.9044\n",
            "Epoch 4/5\n",
            "704/704 [==============================] - 23s 33ms/step - loss: 0.2594 - accuracy: 0.9053 - val_loss: 0.4465 - val_accuracy: 0.8348\n",
            "Epoch 5/5\n",
            "704/704 [==============================] - 23s 33ms/step - loss: 0.2336 - accuracy: 0.9181 - val_loss: 0.3399 - val_accuracy: 0.8564\n"
          ]
        },
        {
          "output_type": "execute_result",
          "data": {
            "text/plain": [
              "<keras.src.callbacks.History at 0x7864ac1237f0>"
            ]
          },
          "metadata": {},
          "execution_count": 10
        }
      ]
    },
    {
      "cell_type": "code",
      "source": [
        "pred = model.predict(test_padded)\n",
        "pred_labels = [1 if x > 0.5 else 0 for x in pred]"
      ],
      "metadata": {
        "colab": {
          "base_uri": "https://localhost:8080/"
        },
        "id": "iVNboo532cFi",
        "outputId": "3d174024-912a-4e9b-974b-3db36d4905e1"
      },
      "execution_count": 11,
      "outputs": [
        {
          "output_type": "stream",
          "name": "stdout",
          "text": [
            "782/782 [==============================] - 12s 13ms/step\n"
          ]
        }
      ]
    },
    {
      "cell_type": "code",
      "source": [
        "from sklearn.metrics import classification_report\n",
        "print(classification_report(test_labels, pred_labels))"
      ],
      "metadata": {
        "id": "fxWA0Mda4Vxv",
        "outputId": "e6595cdc-0056-4110-a572-7d2dc7e90d38",
        "colab": {
          "base_uri": "https://localhost:8080/"
        }
      },
      "execution_count": 12,
      "outputs": [
        {
          "output_type": "stream",
          "name": "stdout",
          "text": [
            "              precision    recall  f1-score   support\n",
            "\n",
            "           0       0.86      0.85      0.86     12500\n",
            "           1       0.86      0.86      0.86     12500\n",
            "\n",
            "    accuracy                           0.86     25000\n",
            "   macro avg       0.86      0.86      0.86     25000\n",
            "weighted avg       0.86      0.86      0.86     25000\n",
            "\n"
          ]
        }
      ]
    },
    {
      "cell_type": "code",
      "source": [],
      "metadata": {
        "id": "KbRw9Tg94dry"
      },
      "execution_count": null,
      "outputs": []
    }
  ]
}